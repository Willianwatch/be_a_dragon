{
 "cells": [
  {
   "cell_type": "markdown",
   "metadata": {},
   "source": [
    "# <center>待完成</center>"
   ]
  },
  {
   "cell_type": "code",
   "execution_count": 1,
   "metadata": {},
   "outputs": [],
   "source": [
    "import numpy as np"
   ]
  },
  {
   "cell_type": "code",
   "execution_count": 2,
   "metadata": {},
   "outputs": [],
   "source": [
    "def load_data_set(file_name):\n",
    "    return np.loadtxt(file_name, dtype=np.float64)"
   ]
  },
  {
   "cell_type": "code",
   "execution_count": 21,
   "metadata": {},
   "outputs": [],
   "source": [
    "def dist_eclud(vec_a, vec_b):\n",
    "    return np.sqrt(np.sum(np.power(vec_a-vec_b, 2)))"
   ]
  },
  {
   "cell_type": "code",
   "execution_count": 4,
   "metadata": {},
   "outputs": [],
   "source": [
    "import cv2"
   ]
  },
  {
   "cell_type": "code",
   "execution_count": 9,
   "metadata": {},
   "outputs": [
    {
     "name": "stdout",
     "output_type": "stream",
     "text": [
      "Help on built-in function minMaxLoc:\n",
      "\n",
      "minMaxLoc(...)\n",
      "    minMaxLoc(src[, mask]) -> minVal, maxVal, minLoc, maxLoc\n",
      "    .   @brief Finds the global minimum and maximum in an array.\n",
      "    .   \n",
      "    .   The function cv::minMaxLoc finds the minimum and maximum element values and their positions. The\n",
      "    .   extremums are searched across the whole array or, if mask is not an empty array, in the specified\n",
      "    .   array region.\n",
      "    .   \n",
      "    .   The function do not work with multi-channel arrays. If you need to find minimum or maximum\n",
      "    .   elements across all the channels, use Mat::reshape first to reinterpret the array as\n",
      "    .   single-channel. Or you may extract the particular channel using either extractImageCOI , or\n",
      "    .   mixChannels , or split .\n",
      "    .   @param src input single-channel array.\n",
      "    .   @param minVal pointer to the returned minimum value; NULL is used if not required.\n",
      "    .   @param maxVal pointer to the returned maximum value; NULL is used if not required.\n",
      "    .   @param minLoc pointer to the returned minimum location (in 2D case); NULL is used if not required.\n",
      "    .   @param maxLoc pointer to the returned maximum location (in 2D case); NULL is used if not required.\n",
      "    .   @param mask optional mask used to select a sub-array.\n",
      "    .   @sa max, min, compare, inRange, extractImageCOI, mixChannels, split, Mat::reshape\n",
      "\n"
     ]
    }
   ],
   "source": [
    "help(cv2.minMaxLoc)"
   ]
  },
  {
   "cell_type": "code",
   "execution_count": 17,
   "metadata": {},
   "outputs": [],
   "source": [
    "def rand_cnt(data_set, k):\n",
    "    n = np.shape(data_set)[1]\n",
    "    centroids = np.zeros((k, n))\n",
    "    for i in range(n):\n",
    "        col_min, col_max, *_ = cv2.minMaxLoc(data_set[:, i])\n",
    "        centroids[:, i] = np.random.uniform(col_min, col_max, k).T\n",
    "    return centroids"
   ]
  },
  {
   "cell_type": "code",
   "execution_count": 11,
   "metadata": {},
   "outputs": [],
   "source": [
    "data_mat = load_data_set(\"testSet.txt\")"
   ]
  },
  {
   "cell_type": "code",
   "execution_count": 19,
   "metadata": {},
   "outputs": [
    {
     "data": {
      "text/plain": [
       "array([[-2.30751894, -3.89110921],\n",
       "       [ 0.55624723,  2.70148825]])"
      ]
     },
     "execution_count": 19,
     "metadata": {},
     "output_type": "execute_result"
    }
   ],
   "source": [
    "rand_cnt(data_mat, 2)"
   ]
  },
  {
   "cell_type": "code",
   "execution_count": 22,
   "metadata": {},
   "outputs": [
    {
     "data": {
      "text/plain": [
       "5.184632816681332"
      ]
     },
     "execution_count": 22,
     "metadata": {},
     "output_type": "execute_result"
    }
   ],
   "source": [
    "dist_eclud(data_mat[0], data_mat[1])"
   ]
  },
  {
   "cell_type": "code",
   "execution_count": 23,
   "metadata": {},
   "outputs": [],
   "source": [
    "def k_means(data_set, k, dist_meas=dist_eclud, create_cent=rand_cnt):\n",
    "    m = np.shape(data_set)[0]\n",
    "    cluster_assment = np.zeros((m, 2))\n",
    "    centroids = create_cent(data_set, k)\n",
    "    cluster_changed = True\n",
    "    while cluster_changed:\n",
    "        cluster_changed = False\n",
    "        for i in range(m):\n",
    "            min_dist = np.inf\n",
    "            min_index = -1\n",
    "            for j in range(k):\n",
    "                dist_ji = dist_meas(centroids[j, :], data_set[i, :])\n",
    "                if dist_ji<min_dist:\n",
    "                    min_dist = dist_ji\n",
    "                    min_index = j\n",
    "            if cluster_assment[i, 0]!=min_index:\n",
    "                cluster_changed = True\n",
    "            cluster_assment[i, :] = min_index, min_dist**2\n",
    "        print(centroids)\n",
    "        for cent in range(k):\n",
    "            pts_in_clust = data_set[cluster_assment[:, 0]==cent]\n",
    "            centroids[cent, :] = np.mean(pts_in_clust, axis=0)\n",
    "    return centroids, cluster_assment"
   ]
  },
  {
   "cell_type": "code",
   "execution_count": 24,
   "metadata": {},
   "outputs": [
    {
     "name": "stdout",
     "output_type": "stream",
     "text": [
      "[[ 3.28994119  1.35051368]\n",
      " [ 0.48743728 -2.37769021]\n",
      " [-0.67222726  2.06057181]\n",
      " [-2.68656241 -2.57683429]]\n",
      "[[ 3.16042967  2.07012938]\n",
      " [ 2.19454347 -3.07604306]\n",
      " [-1.94392522  2.96291883]\n",
      " [-3.53973889 -2.89384326]]\n",
      "[[ 2.6265299   3.10868015]\n",
      " [ 2.65077367 -2.79019029]\n",
      " [-2.46154315  2.78737555]\n",
      " [-3.53973889 -2.89384326]]\n"
     ]
    }
   ],
   "source": [
    "my_centroids, clust_assing = k_means(data_mat, 4)"
   ]
  },
  {
   "cell_type": "code",
   "execution_count": 28,
   "metadata": {},
   "outputs": [
    {
     "data": {
      "text/plain": [
       "(4, 2)"
      ]
     },
     "execution_count": 28,
     "metadata": {},
     "output_type": "execute_result"
    }
   ],
   "source": [
    "my_centroids.shape"
   ]
  },
  {
   "cell_type": "code",
   "execution_count": 25,
   "metadata": {},
   "outputs": [],
   "source": [
    "from matplotlib import pyplot as plt"
   ]
  },
  {
   "cell_type": "code",
   "execution_count": 26,
   "metadata": {},
   "outputs": [],
   "source": [
    "%matplotlib inline"
   ]
  },
  {
   "cell_type": "code",
   "execution_count": 29,
   "metadata": {},
   "outputs": [
    {
     "data": {
      "text/plain": [
       "<matplotlib.collections.PathCollection at 0x1b40eae23c8>"
      ]
     },
     "execution_count": 29,
     "metadata": {},
     "output_type": "execute_result"
    },
    {
     "data": {
      "image/png": "[encoded data removed]",
      "text/plain": [
       "<Figure size 432x288 with 1 Axes>"
      ]
     },
     "metadata": {},
     "output_type": "display_data"
    }
   ],
   "source": [
    "plt.figure()\n",
    "plt.scatter(data_mat[:, 0], data_mat[:, 1])\n",
    "plt.scatter(my_centroids[:, 0], my_centroids[:, 1], marker='+')"
   ]
  },
  {
   "cell_type": "code",
   "execution_count": null,
   "metadata": {},
   "outputs": [],
   "source": [
    "def bi_k_means(data_set, k, dist_meas=dist_eclud):\n",
    "    m = np.shape(data_set)[0]\n",
    "    cluster_assment = np.zeros((M, 2))\n",
    "    centroids = np.mean(data_set, axis=0)\n",
    "    for j in range(m):\n",
    "        cluster_assment[j, :] = dist_meas(centroids, data_set[j, :])**2\n",
    "    while len(centroids)<k:\n",
    "        lowest_sse = np.inf\n",
    "        for i in range(len(centroids)):\n",
    "            pts_in_cur_cluster = data_set(cluster_assment[:, 0]==i)\n",
    "            centroid_mat, split_clus_ass = k_means(pts_in_cur_cluster, 2, dist_meas)\n",
    "            sse_split = np.sum(split_clus_ass[:, 1])\n",
    "            sse_not_split = np.sum(cluster_assment[cluster_assment[:, 0]=i, 1])\n",
    "            print(\"sse_split, and sse_not_split: \"+str(sse_split)+\" \"+str(sse_not_split))\n",
    "            if (sse_split+sse_not_split)<lowest_sse:\n",
    "                best_cent_to_split = i\n",
    "                best_new_cents = centroid_mat\n",
    "                best_clust_ass = split_clus_ass"
   ]
  }
 ],
 "metadata": {
  "kernelspec": {
   "display_name": "Python 3",
   "language": "python",
   "name": "python3"
  },
  "language_info": {
   "codemirror_mode": {
    "name": "ipython",
    "version": 3
   },
   "file_extension": ".py",
   "mimetype": "text/x-python",
   "name": "python",
   "nbconvert_exporter": "python",
   "pygments_lexer": "ipython3",
   "version": "3.6.5"
  }
 },
 "nbformat": 4,
 "nbformat_minor": 2
}
