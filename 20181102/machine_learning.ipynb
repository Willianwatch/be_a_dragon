{
 "cells": [
  {
   "cell_type": "markdown",
   "metadata": {},
   "source": [
    "# <center>逻辑回归算法过程</center>"
   ]
  },
  {
   "cell_type": "markdown",
   "metadata": {},
   "source": [
    "### 输入："
   ]
  },
  {
   "cell_type": "markdown",
   "metadata": {},
   "source": [
    "* 训练集$D=\\{(x_k, y_k)\\}_{k=1}^m$"
   ]
  },
  {
   "cell_type": "markdown",
   "metadata": {},
   "source": [
    "### 过程："
   ]
  },
  {
   "cell_type": "markdown",
   "metadata": {},
   "source": [
    "1: 将$\\beta$初始化为全一向量"
   ]
  },
  {
   "cell_type": "markdown",
   "metadata": {},
   "source": [
    "2: repeat"
   ]
  },
  {
   "cell_type": "markdown",
   "metadata": {},
   "source": [
    "3: 按照下式（牛顿法）更新$\\beta$："
   ]
  },
  {
   "cell_type": "markdown",
   "metadata": {},
   "source": [
    "$$\\beta^{t+1}=\\beta^t-\\left( \\frac{\\partial^2l(\\beta)}{\\partial\\beta\\partial\\beta^T} \\right)^{-1}\\frac{\\partial(\\beta)}{\\partial\\beta}$$"
   ]
  },
  {
   "cell_type": "markdown",
   "metadata": {},
   "source": [
    "</nbsp></nbsp>"
   ]
  },
  {
   "cell_type": "markdown",
   "metadata": {},
   "source": [
    "<p style=\"text-indent:2em\">其中关于$\\beta$的一阶、二阶导数分别为</p>"
   ]
  },
  {
   "cell_type": "markdown",
   "metadata": {},
   "source": [
    "$$\\frac{\\partial(\\beta)}{\\partial\\beta}=-\\sum_{i=1}^m\\hat{\\pmb{x}_i}(y_i-p_1(\\hat{\\pmb{x}_i};\\beta))$$"
   ]
  },
  {
   "cell_type": "markdown",
   "metadata": {},
   "source": [
    "$$\\frac{\\partial^2l(\\beta)}{\\partial\\beta\\partial\\beta^T}=\\sum_{i=1}^{m}\\hat{\\pmb{x}_i}\\hat{\\pmb{x}_i}^Tp_1(\\hat{\\pmb{x}_i};\\beta)(1-p_1(\\hat{\\pmb{x}_i};\\beta))$$"
   ]
  },
  {
   "cell_type": "markdown",
   "metadata": {},
   "source": [
    "4: until 达到停止条件"
   ]
  },
  {
   "cell_type": "markdown",
   "metadata": {},
   "source": [
    "### 输出："
   ]
  },
  {
   "cell_type": "markdown",
   "metadata": {},
   "source": [
    "$\\beta值$"
   ]
  },
  {
   "cell_type": "code",
   "execution_count": null,
   "metadata": {},
   "outputs": [],
   "source": []
  }
 ],
 "metadata": {
  "kernelspec": {
   "display_name": "Python 3",
   "language": "python",
   "name": "python3"
  },
  "language_info": {
   "codemirror_mode": {
    "name": "ipython",
    "version": 3
   },
   "file_extension": ".py",
   "mimetype": "text/x-python",
   "name": "python",
   "nbconvert_exporter": "python",
   "pygments_lexer": "ipython3",
   "version": "3.6.5"
  }
 },
 "nbformat": 4,
 "nbformat_minor": 2
}
