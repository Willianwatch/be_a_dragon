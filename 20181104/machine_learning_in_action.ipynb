{
 "cells": [
  {
   "cell_type": "code",
   "execution_count": 1,
   "metadata": {},
   "outputs": [],
   "source": [
    "import numpy as np"
   ]
  },
  {
   "cell_type": "code",
   "execution_count": 2,
   "metadata": {},
   "outputs": [],
   "source": [
    "def load_data_set(file_name):\n",
    "    data = np.loadtxt(file_name, dtype=np.float64)\n",
    "    data_mat = data[:, :-1]\n",
    "    label_mat = data[:, -1]\n",
    "    return data_mat, label_mat"
   ]
  },
  {
   "cell_type": "code",
   "execution_count": 3,
   "metadata": {},
   "outputs": [],
   "source": [
    "def stand_regres(x_arr, y_arr):\n",
    "    xTx = np.dot(x_arr.T, x_arr)\n",
    "    if np.linalg.det(xTx)==0.0:\n",
    "        raise RuntimeError(\"This matrix is singular, cannot do inverse!\")\n",
    "    else:\n",
    "        return np.dot(np.linalg.inv(xTx), np.dot(x_arr.T, y_arr))"
   ]
  },
  {
   "cell_type": "code",
   "execution_count": 4,
   "metadata": {},
   "outputs": [],
   "source": [
    "x_arr, y_arr = load_data_set(\"ex0.txt\")"
   ]
  },
  {
   "cell_type": "code",
   "execution_count": 5,
   "metadata": {},
   "outputs": [
    {
     "data": {
      "text/plain": [
       "array([[1.      , 0.067732],\n",
       "       [1.      , 0.42781 ]])"
      ]
     },
     "execution_count": 5,
     "metadata": {},
     "output_type": "execute_result"
    }
   ],
   "source": [
    "x_arr[0:2]"
   ]
  },
  {
   "cell_type": "code",
   "execution_count": 6,
   "metadata": {},
   "outputs": [],
   "source": [
    "ws = stand_regres(x_arr, y_arr)"
   ]
  },
  {
   "cell_type": "code",
   "execution_count": 7,
   "metadata": {},
   "outputs": [
    {
     "data": {
      "text/plain": [
       "array([3.00774324, 1.69532264])"
      ]
     },
     "execution_count": 7,
     "metadata": {},
     "output_type": "execute_result"
    }
   ],
   "source": [
    "ws"
   ]
  },
  {
   "cell_type": "code",
   "execution_count": 8,
   "metadata": {},
   "outputs": [],
   "source": [
    "y_hat = np.dot(x_arr, ws.T)"
   ]
  },
  {
   "cell_type": "code",
   "execution_count": 9,
   "metadata": {},
   "outputs": [],
   "source": [
    "from matplotlib import pyplot as plt"
   ]
  },
  {
   "cell_type": "code",
   "execution_count": 10,
   "metadata": {},
   "outputs": [
    {
     "data": {
      "image/png": "[encoded data removed]",
      "text/plain": [
       "<Figure size 432x288 with 1 Axes>"
      ]
     },
     "metadata": {},
     "output_type": "display_data"
    }
   ],
   "source": [
    "plt.figure()\n",
    "plt.scatter(x_arr[:, 1], y_arr)\n",
    "plt.plot(x_arr[:, 1], y_hat)\n",
    "plt.show()"
   ]
  },
  {
   "cell_type": "code",
   "execution_count": 11,
   "metadata": {},
   "outputs": [
    {
     "data": {
      "text/plain": [
       "array([[1.        , 0.98647356],\n",
       "       [0.98647356, 1.        ]])"
      ]
     },
     "execution_count": 11,
     "metadata": {},
     "output_type": "execute_result"
    }
   ],
   "source": [
    "np.corrcoef(y_arr, y_hat)"
   ]
  },
  {
   "cell_type": "code",
   "execution_count": 20,
   "metadata": {},
   "outputs": [],
   "source": [
    "def lwlr(test_point, x_arr, y_arr, k=1.0):\n",
    "    m = np.shape(x_arr)[0]\n",
    "    weights = np.eye((m))\n",
    "    for j in range(m):\n",
    "        diff_mat = test_point - x_arr[j, :]\n",
    "        weights[j, j] = np.exp(np.dot(diff_mat, diff_mat.T)/(-2.0*k**2))\n",
    "    xTx = np.dot(x_arr.T, np.dot(weights, x_arr))\n",
    "    if np.linalg.det(xTx)==0.0:\n",
    "        raise RuntimeError(\"This matrix is singular, cannot do inverse\")\n",
    "    ws = np.dot(np.linalg.inv(xTx), np.dot(x_arr.T, np.dot(weights, y_arr)))\n",
    "    return np.dot(test_point,ws)"
   ]
  },
  {
   "cell_type": "code",
   "execution_count": 13,
   "metadata": {},
   "outputs": [],
   "source": [
    "def lwlr_test(test_arr, x_arr, y_arr, k=1.0):\n",
    "    return np.array([lwlr(test_arr[i], x_arr, y_arr, k) for i in range(np.shape(test_arr)[0])])"
   ]
  },
  {
   "cell_type": "code",
   "execution_count": 14,
   "metadata": {},
   "outputs": [
    {
     "data": {
      "text/plain": [
       "3.176513"
      ]
     },
     "execution_count": 14,
     "metadata": {},
     "output_type": "execute_result"
    }
   ],
   "source": [
    "y_arr[0]"
   ]
  },
  {
   "cell_type": "code",
   "execution_count": 21,
   "metadata": {},
   "outputs": [
    {
     "data": {
      "text/plain": [
       "3.1220447140568712"
      ]
     },
     "execution_count": 21,
     "metadata": {},
     "output_type": "execute_result"
    }
   ],
   "source": [
    "lwlr(x_arr[0], x_arr, y_arr, 1.0)"
   ]
  },
  {
   "cell_type": "code",
   "execution_count": 22,
   "metadata": {},
   "outputs": [
    {
     "data": {
      "text/plain": [
       "3.201757285525254"
      ]
     },
     "execution_count": 22,
     "metadata": {},
     "output_type": "execute_result"
    }
   ],
   "source": [
    "lwlr(x_arr[0], x_arr, y_arr, 0.001)"
   ]
  },
  {
   "cell_type": "code",
   "execution_count": 23,
   "metadata": {},
   "outputs": [],
   "source": [
    "srt_ind = np.argsort(x_arr[:, 1], 0)"
   ]
  },
  {
   "cell_type": "code",
   "execution_count": 24,
   "metadata": {},
   "outputs": [
    {
     "data": {
      "text/plain": [
       "array([151,  24,   7, 114,  26,  30,  45, 121, 106, 113,  21,   0, 153,\n",
       "       197,  20, 136,  93, 149, 169,  70,  69, 199, 183,  64,  31,   8,\n",
       "       132,   9,  17,  60, 143,  80, 128,  85,  40, 144,  79, 134,  52,\n",
       "       138,  96, 172, 135,  88, 158,  27, 170, 146,  19,  43, 168,  13,\n",
       "        10,  51, 165,  72, 192, 195,  42, 111,  35,  77, 102,  78, 137,\n",
       "        74,  89,  76,  59,  87,  98,  54,  25, 179, 107,  90,  55, 140,\n",
       "       124,  16, 184,  46,   6,  66,  67, 186,  36, 109, 141,  38, 126,\n",
       "       108,  99,   1,  84, 118, 182, 176,  56, 100, 123, 177, 142, 122,\n",
       "        48, 194,  47, 112, 119,   5, 198, 147, 155,  29, 178, 101,  44,\n",
       "        32, 152, 105,  92,  58, 115, 154, 191,  15, 130,  28,  65, 139,\n",
       "        18,  11, 156, 189, 129,  71,  41,  91,  63, 117, 166,  94, 133,\n",
       "       110,  57, 159,  61,  23,  62, 193,  12,  81, 164,   3, 175, 120,\n",
       "        50,  83,  68, 188,  49,  53, 185, 196,  97,  82, 131, 145, 171,\n",
       "       190,  37, 180, 104, 148,  33, 157,  39,  86, 150, 103, 181, 127,\n",
       "        22, 167, 116, 125,  95,  75, 173,  34, 160,  14, 174,   4, 161,\n",
       "       187, 162, 163,  73,   2], dtype=int64)"
      ]
     },
     "execution_count": 24,
     "metadata": {},
     "output_type": "execute_result"
    }
   ],
   "source": [
    "srt_ind"
   ]
  },
  {
   "cell_type": "code",
   "execution_count": 27,
   "metadata": {},
   "outputs": [],
   "source": [
    "x_sort = x_arr[srt_ind][:]"
   ]
  },
  {
   "cell_type": "code",
   "execution_count": 33,
   "metadata": {},
   "outputs": [
    {
     "data": {
      "image/png": "[encoded data removed]",
      "text/plain": [
       "<Figure size 432x288 with 1 Axes>"
      ]
     },
     "metadata": {},
     "output_type": "display_data"
    }
   ],
   "source": [
    "fig = plt.figure()\n",
    "ax = fig.add_subplot(111)\n",
    "ax.plot(x_sort[:, 1], y_hat[srt_ind])\n",
    "ax.scatter(x_arr[:, 1].flatten(), y_arr.flatten(), s=2, c=\"red\")\n",
    "plt.show()"
   ]
  },
  {
   "cell_type": "code",
   "execution_count": 34,
   "metadata": {},
   "outputs": [],
   "source": [
    "y_hat = lwlr_test(x_arr, x_arr, y_arr, 0.01)"
   ]
  },
  {
   "cell_type": "code",
   "execution_count": 35,
   "metadata": {},
   "outputs": [],
   "source": [
    "def rss_error(y_arr, y_hat_arr):\n",
    "    return np.sum((y_arr-y_hat_arr)**2)"
   ]
  },
  {
   "cell_type": "code",
   "execution_count": 36,
   "metadata": {},
   "outputs": [],
   "source": [
    "ab_x, ab_y = load_data_set(\"abalone.txt\")"
   ]
  },
  {
   "cell_type": "code",
   "execution_count": 37,
   "metadata": {},
   "outputs": [],
   "source": [
    "y_hat_01 = lwlr_test(ab_x[0:99], ab_x[0:99], ab_y[0:99], 0.1)"
   ]
  },
  {
   "cell_type": "code",
   "execution_count": 38,
   "metadata": {},
   "outputs": [],
   "source": [
    "y_hat_1 = lwlr_test(ab_x[0:99], ab_x[0:99], ab_y[0:99], 1)"
   ]
  },
  {
   "cell_type": "code",
   "execution_count": 39,
   "metadata": {},
   "outputs": [],
   "source": [
    "y_hat_10 = lwlr_test(ab_x[0:99], ab_x[0:99], ab_y[0:99], 10)"
   ]
  },
  {
   "cell_type": "code",
   "execution_count": 40,
   "metadata": {},
   "outputs": [
    {
     "data": {
      "text/plain": [
       "56.7940873657608"
      ]
     },
     "execution_count": 40,
     "metadata": {},
     "output_type": "execute_result"
    }
   ],
   "source": [
    "rss_error(ab_y[0:99], y_hat_01.T)"
   ]
  },
  {
   "cell_type": "code",
   "execution_count": 41,
   "metadata": {},
   "outputs": [
    {
     "data": {
      "text/plain": [
       "429.89056187021527"
      ]
     },
     "execution_count": 41,
     "metadata": {},
     "output_type": "execute_result"
    }
   ],
   "source": [
    "rss_error(ab_y[0:99], y_hat_1.T)"
   ]
  },
  {
   "cell_type": "code",
   "execution_count": null,
   "metadata": {},
   "outputs": [],
   "source": []
  }
 ],
 "metadata": {
  "kernelspec": {
   "display_name": "Python 3",
   "language": "python",
   "name": "python3"
  },
  "language_info": {
   "codemirror_mode": {
    "name": "ipython",
    "version": 3
   },
   "file_extension": ".py",
   "mimetype": "text/x-python",
   "name": "python",
   "nbconvert_exporter": "python",
   "pygments_lexer": "ipython3",
   "version": "3.6.5"
  }
 },
 "nbformat": 4,
 "nbformat_minor": 2
}
